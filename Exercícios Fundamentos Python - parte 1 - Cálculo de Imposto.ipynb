{
 "cells": [
  {
   "cell_type": "markdown",
   "id": "677c85ea",
   "metadata": {},
   "source": [
    "### 1- Imposto a pagar no Lucro Presumido\n",
    "\n",
    "- 5% sobre faturamento de ISS (mensal)\n",
    "- 0,65% de PIS sobre faturamento, (mensal)\n",
    "- 3% de COFINS sobre faturmaneto, (mensal)\n",
    "- 4.8% de IR (trimestral)\n",
    "- 10% de IR Adicional sobre o que ultrapassar 20mil do faturamento (trimestral)\n",
    "- CSLL: 2,88% sobre faturamento (trimestral)"
   ]
  },
  {
   "cell_type": "code",
   "execution_count": 44,
   "id": "aa56f2ec",
   "metadata": {},
   "outputs": [],
   "source": [
    "faturamento = {\n",
    "    'jan': 'R$ 95.141,98',\n",
    "    'fev': 'R$ 95.425,16',\n",
    "    'mar': 'R$ 89.716,31',\n",
    "    'abr': 'R$ 78.459,99',\n",
    "    'mai': 'R$ 71.087,28',\n",
    "    'jun': 'R$ 83.911,06',\n",
    "    'jul': 'R$ 56.467,26',\n",
    "    'ago': 'R$ 88.513,58',\n",
    "    'set': 'R$ 66.552,49',\n",
    "    'out': 'R$ 80.164,07',\n",
    "    'nov': 'R$ 66.964,33',\n",
    "    'dez': 'R$ 71.525,25',\n",
    "}\n",
    "\n",
    "# você precisa inserir no sistema um dicionário no formato:\n",
    "\n",
    "# resultado = {\n",
    "#     'mes': (faturamento, imposto_mensal, imposto_trimestral),\n",
    "# }"
   ]
  },
  {
   "cell_type": "code",
   "execution_count": 45,
   "id": "b4945d69",
   "metadata": {},
   "outputs": [],
   "source": [
    "def transformar_numero(texto):\n",
    "    texto = texto.replace(\"R$ \", '').replace('.', '').replace(',', '.')\n",
    "    valor_faturamento = float(texto)\n",
    "    return valor_faturamento\n",
    "\n",
    "\n",
    "def calcular_imposto_mensal(valor_faturamento):\n",
    "    iss = valor_faturamento * 0.05\n",
    "    pis = valor_faturamento * 0.0065\n",
    "    cofins = valor_faturamento * 0.03\n",
    "    imposto_mensal = iss + pis + cofins\n",
    "    return imposto_mensal\n",
    "\n",
    "def calcular_imposto_trimestral(valor_faturamento):\n",
    "    ir = valor_faturamento * 0.048\n",
    "    csll = valor_faturamento * 0.0288\n",
    "    ir_adicional = (valor_faturamento - 20000) * 0.1\n",
    "    if valor_faturamento > 20000:\n",
    "        imposto_trimestral = ir + csll + ir_adicional\n",
    "    else:\n",
    "        imposto_trimestral = ir + csll\n",
    "    return imposto_trimestral"
   ]
  },
  {
   "cell_type": "code",
   "execution_count": 46,
   "id": "e8112ed8",
   "metadata": {},
   "outputs": [
    {
     "name": "stdout",
     "output_type": "stream",
     "text": [
      "{'jan': (95141.98, 8229.78127, 14821.102063999999), 'fev': (95425.16, 8254.27634, 14871.168288), 'mar': (89716.31, 7760.460814999999, 13861.843608), 'abr': (78459.99, 6786.789135000001, 11871.726232), 'mai': (71087.28, 6149.04972, 10568.231104), 'jun': (83911.06, 7258.306689999999, 12835.475408), 'jul': (56467.26, 4884.41799, 7983.411568), 'ago': (88513.58, 7656.42467, 13649.200944), 'set': (66552.49, 5756.790385, 9766.480232000002), 'out': (80164.07, 6934.192055000001, 12173.007576000002), 'nov': (66964.33, 5792.4145450000005, 9839.293544), 'dez': (71525.25, 6186.934125, 10645.6642)}\n"
     ]
    }
   ],
   "source": [
    "resultado = {}\n",
    "for mes in faturamento:\n",
    "    valor_faturamento = transformar_numero(faturamento[mes])\n",
    "    imposto_mensal = calcular_imposto_mensal(valor_faturamento)\n",
    "    imposto_trimestral = calcular_imposto_trimestral(valor_faturamento)\n",
    "    resultado[mes] = valor_faturamento, imposto_mensal, imposto_trimestral\n",
    "\n",
    "print(resultado)"
   ]
  }
 ],
 "metadata": {
  "kernelspec": {
   "display_name": "Python 3",
   "language": "python",
   "name": "python3"
  },
  "language_info": {
   "codemirror_mode": {
    "name": "ipython",
    "version": 3
   },
   "file_extension": ".py",
   "mimetype": "text/x-python",
   "name": "python",
   "nbconvert_exporter": "python",
   "pygments_lexer": "ipython3",
   "version": "3.13.3"
  }
 },
 "nbformat": 4,
 "nbformat_minor": 5
}
