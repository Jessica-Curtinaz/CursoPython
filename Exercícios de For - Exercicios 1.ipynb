{
 "cells": [
  {
   "cell_type": "markdown",
   "metadata": {},
   "source": [
    "# Exercícios\n",
    "\n",
    "## 1. Criando um Registro de Hóspedes\n",
    "\n",
    "Digamos que você está criando o sistema para registrar a chegada de hóspedes em um hotel. No hotel, os hóspedes podem ter quartos com 1, 2, 3 e 4 pessoas. Seu sistema deve conseguir:\n",
    "\n",
    "1. Identificar quantas pessoas o hóspede que acabou de chegar vai ter no quarto (perguntando por meio de input)\n",
    "2. De acordo com a quantidade de pessoas do hóspede, ele deve fazer um for para perguntar o cpf e o nome de cada pessoa, a fim de registrá-la no quarto (2 inputs para cada pessoa, 1 para o cpf e outro para o nome)\n",
    "3. O seu programa então deve gerar uma lista com todas as pessoas que ficarão no quarto em que cada item dessa lista é o nome da pessoa e o cpf da pessoa, assim:"
   ]
  },
  {
   "cell_type": "raw",
   "metadata": {},
   "source": [
    "quarto = [\n",
    "    ['João', 'cpf:00000000000'],\n",
    "    ['Julia', 'cpf:11111111111'],\n",
    "    ['Marcus', 'cpf:22222222222'],\n",
    "    ['Maria', 'cpf:33333333333'],\n",
    "]"
   ]
  },
  {
   "cell_type": "markdown",
   "metadata": {},
   "source": [
    "- Para simplificar, não vamos nos preocupar com possibilidades de \"tentar colocar mais de 1 hóspede, digitar o cpf errado, etc. Nosso objetivo é treinar a criação de uma rotina de cadastro"
   ]
  },
  {
   "cell_type": "code",
   "execution_count": 9,
   "metadata": {},
   "outputs": [
    {
     "name": "stdout",
     "output_type": "stream",
     "text": [
      "['joao', '00000000000']\n",
      "['julia', '11111111111']\n",
      "['marcus', '22222222222']\n",
      "['maria', '33333333333']\n"
     ]
    }
   ],
   "source": [
    "qtdHospedes = int(input(\"Quantas pessoas são?\"))\n",
    "quarto = []\n",
    "\n",
    "for i in range(qtdHospedes):\n",
    "   quarto.append([input(\"Nome\"), input(\"CPF\")])\n",
    "   print(quarto[i])"
   ]
  },
  {
   "cell_type": "markdown",
   "metadata": {},
   "source": [
    "## 2. Análise de Vendas\n",
    "\n",
    "Nesse exercício vamos fazer uma \"análise simples\" de atingimento de Meta.\n",
    "\n",
    "Temos uma lista com os vendedores e os valores de vendas e queremos identificar (printar) quais os vendedores que bateram a meta e qual foi o valor que eles venderam."
   ]
  },
  {
   "cell_type": "code",
   "execution_count": null,
   "metadata": {},
   "outputs": [
    {
     "name": "stdout",
     "output_type": "stream",
     "text": [
      "O vendedor João atingiu a meta com R$ 15000.00 em vendas.\n",
      "O vendedor Julia atingiu a meta com R$ 27000.00 em vendas.\n",
      "O vendedor Ana atingiu a meta com R$ 10300.00 em vendas.\n"
     ]
    }
   ],
   "source": [
    "meta = 10000\n",
    "vendas = [\n",
    "    ['João', 15000],\n",
    "    ['Julia', 27000],\n",
    "    ['Marcus', 9900],\n",
    "    ['Maria', 3750],\n",
    "    ['Ana', 10300],\n",
    "    ['Alon', 7870],\n",
    "]\n",
    "\n",
    "for venda in vendas:\n",
    "    if venda[1] >= meta:\n",
    "        print(\"O vendedor {} atingiu a meta com R$ {:.2f} em vendas.\".format(venda[0], venda[1]))"
   ]
  },
  {
   "cell_type": "markdown",
   "metadata": {},
   "source": [
    "## 3. Comparação com Ano Anterior\n",
    "\n",
    "Digamos que você está analisando as vendas de produtos de um ecommerce e quer identificar quais produtos tiveram no ano de 2020 mais vendas do que no ano de 2019, para reportar isso para a diretoria.\n",
    "\n",
    "Sua resposta pode ser um print de cada produto, qual foi a venda de 2019, a venda de 2020 e o % de crescimento de 2020 para 2019.\n",
    "\n",
    "Lembrando, para calcular o % de crescimento de um produto de um ano para o outro, podemos fazer: (vendas_produto2020/vendas_produto2019 - 1)\n"
   ]
  },
  {
   "cell_type": "code",
   "execution_count": null,
   "metadata": {},
   "outputs": [
    {
     "name": "stdout",
     "output_type": "stream",
     "text": [
      "iphone teve R$ 558,147.00 em vendas no ano de 2019 e R$ 951,642.00 no ano de 2020, com um crescimento de 70.5%.\n",
      "galaxy teve R$ 712,350.00 em vendas no ano de 2019 e R$ 244,295.00 no ano de 2020, com um crescimento de -65.7%.\n",
      "ipad teve R$ 573,823.00 em vendas no ano de 2019 e R$ 26,964.00 no ano de 2020, com um crescimento de -95.3%.\n",
      "tv teve R$ 405,252.00 em vendas no ano de 2019 e R$ 787,604.00 no ano de 2020, com um crescimento de 94.3%.\n",
      "máquina de café teve R$ 718,654.00 em vendas no ano de 2019 e R$ 867,660.00 no ano de 2020, com um crescimento de 20.7%.\n",
      "kindle teve R$ 531,580.00 em vendas no ano de 2019 e R$ 78,830.00 no ano de 2020, com um crescimento de -85.2%.\n",
      "geladeira teve R$ 973,139.00 em vendas no ano de 2019 e R$ 710,331.00 no ano de 2020, com um crescimento de -27.0%.\n",
      "adega teve R$ 892,292.00 em vendas no ano de 2019 e R$ 646,016.00 no ano de 2020, com um crescimento de -27.6%.\n",
      "notebook dell teve R$ 422,760.00 em vendas no ano de 2019 e R$ 694,913.00 no ano de 2020, com um crescimento de 64.4%.\n",
      "notebook hp teve R$ 154,753.00 em vendas no ano de 2019 e R$ 539,704.00 no ano de 2020, com um crescimento de 248.8%.\n",
      "notebook asus teve R$ 887,061.00 em vendas no ano de 2019 e R$ 324,831.00 no ano de 2020, com um crescimento de -63.4%.\n",
      "microsoft surface teve R$ 438,508.00 em vendas no ano de 2019 e R$ 667,179.00 no ano de 2020, com um crescimento de 52.1%.\n",
      "webcam teve R$ 237,467.00 em vendas no ano de 2019 e R$ 295,633.00 no ano de 2020, com um crescimento de 24.5%.\n",
      "caixa de som teve R$ 489,705.00 em vendas no ano de 2019 e R$ 725,316.00 no ano de 2020, com um crescimento de 48.1%.\n",
      "microfone teve R$ 328,311.00 em vendas no ano de 2019 e R$ 644,622.00 no ano de 2020, com um crescimento de 96.3%.\n",
      "câmera canon teve R$ 591,120.00 em vendas no ano de 2019 e R$ 994,303.00 no ano de 2020, com um crescimento de 68.2%.\n"
     ]
    }
   ],
   "source": [
    "produtos = ['iphone', 'galaxy', 'ipad', 'tv', 'máquina de café', 'kindle', 'geladeira', 'adega', 'notebook dell', 'notebook hp', 'notebook asus', 'microsoft surface', 'webcam', 'caixa de som', 'microfone', 'câmera canon']\n",
    "vendas2019 = [558147,712350,573823,405252,718654,531580,973139,892292,422760,154753,887061,438508,237467,489705,328311,591120]\n",
    "vendas2020 = [951642,244295,26964,787604,867660,78830,710331,646016,694913,539704,324831,667179,295633,725316,644622,994303]\n",
    "\n",
    "for i, produto in enumerate(produtos):\n",
    "    crescimento = vendas2020[i]/vendas2019[i] - 1\n",
    "    print(\"{} teve R$ {:,.2f} em vendas no ano de 2019 e R$ {:,.2f} no ano de 2020, com um crescimento de {:.1%}.\".format(produto, vendas2019[i], vendas2020[i], crescimento))\n"
   ]
  }
 ],
 "metadata": {
  "kernelspec": {
   "display_name": "Python 3",
   "language": "python",
   "name": "python3"
  },
  "language_info": {
   "codemirror_mode": {
    "name": "ipython",
    "version": 3
   },
   "file_extension": ".py",
   "mimetype": "text/x-python",
   "name": "python",
   "nbconvert_exporter": "python",
   "pygments_lexer": "ipython3",
   "version": "3.13.3"
  }
 },
 "nbformat": 4,
 "nbformat_minor": 4
}
