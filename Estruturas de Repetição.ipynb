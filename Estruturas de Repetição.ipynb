{
 "cells": [
  {
   "cell_type": "markdown",
   "id": "ac60394f",
   "metadata": {
    "id": "ac60394f"
   },
   "source": [
    "# Estruturas de repetição\n",
    "\n",
    "<span style=\"color: red;\"><b>Todos os exercícios são feitos partindo-se do pressuposto de que todas as entradas são dadas de forma correta. Casos limite não mencionados no enunciado não são abordados porque não fazem parte do exercício.</b></span>"
   ]
  },
  {
   "cell_type": "markdown",
   "id": "017affd0",
   "metadata": {
    "id": "017affd0"
   },
   "source": [
    "#### 1. Faça um programa que peça uma nota, entre zero e dez. Mostre uma mensagem caso o valor seja inválido e continue pedindo até que o usuário informe um valor válido."
   ]
  },
  {
   "cell_type": "code",
   "execution_count": null,
   "id": "5f12870d",
   "metadata": {
    "id": "5f12870d"
   },
   "outputs": [],
   "source": [
    "while True:\n",
    "    valor = int(input(\"Digite um valor de 0 a 10\"))\n",
    "    if valor < 0 or valor > 10:\n",
    "        valor = int(input(\"Valor Inválido! Digite um valor de 0 a 10\"))\n",
    "    break"
   ]
  },
  {
   "cell_type": "markdown",
   "id": "dd0c6d56",
   "metadata": {
    "id": "dd0c6d56"
   },
   "source": [
    "#### 2. Faça um programa que leia um nome de usuário e a sua senha e não aceite a senha igual ao nome do usuário, mostrando uma mensagem de erro e voltando a pedir as informações."
   ]
  },
  {
   "cell_type": "code",
   "execution_count": 3,
   "id": "f6579866",
   "metadata": {
    "id": "f6579866"
   },
   "outputs": [
    {
     "name": "stdout",
     "output_type": "stream",
     "text": [
      "A senha não pode ser igual ao nome de usuário\n"
     ]
    }
   ],
   "source": [
    "while True:\n",
    "    usuario = input(\"Digite seu nome de usuário\")\n",
    "    senha = input(\"Digite uma senha\")\n",
    "    if senha == usuario:\n",
    "        print(\"A senha não pode ser igual ao nome de usuário\")\n",
    "        senha = input(\"Digite uma senha\")\n",
    "    break"
   ]
  },
  {
   "cell_type": "markdown",
   "id": "ed113a82",
   "metadata": {
    "id": "ed113a82"
   },
   "source": [
    "#### 3. Faça um programa que leia e valide as seguintes informações (e para cada uma delas, continue pedindo a informação até o usuário inserir corretamente):\n",
    "##### Nome: maior que 3 caracteres;\n",
    "##### Idade: entre 0 e 150;\n",
    "##### Salário: maior que zero;\n",
    "##### Sexo: 'f' ou 'm';\n",
    "##### Estado Civil: 's', 'c', 'v', 'd';"
   ]
  },
  {
   "cell_type": "code",
   "execution_count": null,
   "id": "3284f187",
   "metadata": {
    "id": "3284f187"
   },
   "outputs": [],
   "source": [
    "while True:\n",
    "    nome = input(\"Digite seu nome\")\n",
    "    if len(nome) <= 3:\n",
    "        print(\"O nome deve ter no mínimo 4 caracteres\")\n",
    "        nome = input(\"Digite seu nome\")\n",
    "    idade = int(input(\"Digite sua idade\"))\n",
    "    if idade < 0 or idade > 150:\n",
    "        print(\"A a idade deve ser entre 0 e 150\")\n",
    "        idade = int(input(\"Digite sua idade\"))\n",
    "    salario = float(input(\"Digite seu sálario\"))\n",
    "    if salario <= 0:\n",
    "        print(\"O sálario deve ser maior que 0\")\n",
    "        salario = float(input(\"Digite seu sálario\"))\n",
    "    sexo = input(\"Digite seu sexo 'f' ou 'm'\") \n",
    "    if sexo != 'f' and sexo != 'm':\n",
    "        print(\"Sexo inválido\")\n",
    "        sexo = input(\"Digite seu sexo 'f' ou 'm'\")\n",
    "    estCivil = input(\"Digite seu estado civil:\\ns para solteiro\\nc para casado\\nv para viúvo\\nd para divorciado\")\n",
    "    if estCivil not in ['s', 'c', 'v', 'd']:\n",
    "        print(\"Estado civil inválido\")\n",
    "        estCivil = input(\"Digite seu estado civil:\\ns para solteiro\\nc para casado\\nv para viúvo\\nd para divorciado\")\n",
    "    break"
   ]
  },
  {
   "cell_type": "markdown",
   "id": "2f25dceb",
   "metadata": {
    "id": "2f25dceb"
   },
   "source": [
    "#### 4. Supondo que a população de um país A seja da ordem de 80000 habitantes com uma taxa anual de crescimento de 3% e que a população de B seja 200000 habitantes com uma taxa de crescimento de 1.5%. Faça um programa que calcule e escreva o número de anos necessários para que a população do país A ultrapasse ou iguale a população do país B, mantidas as taxas de crescimento."
   ]
  },
  {
   "cell_type": "code",
   "execution_count": 1,
   "id": "7ad0f5e9",
   "metadata": {
    "id": "7ad0f5e9"
   },
   "outputs": [
    {
     "name": "stdout",
     "output_type": "stream",
     "text": [
      "63\n"
     ]
    }
   ],
   "source": [
    "paisA = 80000\n",
    "paisB = 200000\n",
    "ano = 0\n",
    "\n",
    "while paisA < paisB:\n",
    "    paisA = paisA * 1.03\n",
    "    paisB = paisB * 1.015\n",
    "    ano += 1\n",
    "\n",
    "print(ano)"
   ]
  },
  {
   "cell_type": "markdown",
   "id": "e9626858",
   "metadata": {
    "id": "e9626858"
   },
   "source": [
    "#### 5. Altere o programa anterior permitindo ao usuário informar as populações e as taxas de crescimento iniciais. Valide a entrada e permita repetir a operação."
   ]
  },
  {
   "cell_type": "code",
   "execution_count": 8,
   "id": "c7e250a4",
   "metadata": {
    "id": "c7e250a4"
   },
   "outputs": [
    {
     "name": "stdout",
     "output_type": "stream",
     "text": [
      "Informe um valor maior que 0\n",
      "São necessários 63 anos para a população A igualar ou superar a população B.\n"
     ]
    }
   ],
   "source": [
    "repetir = 's'\n",
    "paisA = 0\n",
    "paisB = 0\n",
    "ano = 0\n",
    "\n",
    "while repetir == 's':\n",
    "    try:\n",
    "        while paisA <= 0 or paisB <= 0:\n",
    "            print(\"Informe um valor maior que 0\")\n",
    "            paisA = int(input(\"Informe a população do país A\"))\n",
    "            paisB = int(input(\"Informe a população do país B\"))\n",
    "    except:\n",
    "        print(\"Dados inválidos\")\n",
    "\n",
    "    try:\n",
    "        taxaA = float(input(\"Informe a taxa anual de crescimento do país A\"))\n",
    "        taxaB = float(input(\"Informe a taxa anual de crescimento do país B\"))\n",
    "    except:\n",
    "        print(\"Dados inválidos\")\n",
    "\n",
    "    while paisA < paisB:\n",
    "        paisA = paisA * (1 + taxaA/100)\n",
    "        paisB = paisB * (1 + taxaB/100)\n",
    "        ano += 1\n",
    "\n",
    "    print('São necessários', ano, 'anos para a população A igualar ou superar a população B.')\n",
    "    repetir = input(\"Gostaria de repetir a operação? Digite 's' para repetir\")"
   ]
  },
  {
   "cell_type": "markdown",
   "id": "b3d268b5",
   "metadata": {
    "id": "b3d268b5"
   },
   "source": [
    "#### 6. Faça um programa que peça para o usuário inserir o faturamento dos últimos 5 meses (individualmente) e informe o maior faturamento"
   ]
  },
  {
   "cell_type": "code",
   "execution_count": null,
   "id": "8078e7a5",
   "metadata": {
    "id": "8078e7a5"
   },
   "outputs": [
    {
     "name": "stdout",
     "output_type": "stream",
     "text": [
      "800.0 é o maior faturamento\n"
     ]
    }
   ],
   "source": [
    "for i in range(5): \n",
    "    faturamento = float(input('Informe o faturamento do mês:'))\n",
    "    if i == 0:\n",
    "        maior = faturamento\n",
    "    else:\n",
    "        if faturamento > maior:\n",
    "            maior = faturamento\n",
    "\n",
    "print(maior, 'é o maior faturamento')"
   ]
  },
  {
   "cell_type": "markdown",
   "id": "6407824c",
   "metadata": {
    "id": "6407824c"
   },
   "source": [
    "#### 7. Faça um programa que peça para o usuário inserir o faturamento dos últimos 5 meses (individualmente) e informe o faturamento total (soma) e o faturamento médio por mês (média)."
   ]
  },
  {
   "cell_type": "code",
   "execution_count": 15,
   "id": "a02320d1",
   "metadata": {
    "id": "a02320d1"
   },
   "outputs": [
    {
     "name": "stdout",
     "output_type": "stream",
     "text": [
      "O faturamento total é de R$ 32,000.00.\n",
      "O fatumento médio por mês é de R$ 6,400.00.\n"
     ]
    }
   ],
   "source": [
    "for i in range(5): \n",
    "    faturamento = float(input('Informe o faturamento do mês:'))\n",
    "    if i == 0:\n",
    "        soma = faturamento\n",
    "    else:\n",
    "        if faturamento > soma:\n",
    "            soma += faturamento\n",
    "\n",
    "print(\"O faturamento total é de R$ {:,.2f}.\".format(soma))\n",
    "print(\"O fatumento médio por mês é de R$ {:,.2f}.\".format(soma/5))"
   ]
  },
  {
   "cell_type": "markdown",
   "id": "703f3c4d",
   "metadata": {
    "id": "703f3c4d"
   },
   "source": [
    "#### 8. Faça um programa que consiga categorizar a idade das equipes de uma empresa. Faça um programa que peça para n pessoas a sua idade, ao final o programa devera verificar se a média de idade da equipe varia entre 0 e 25 (jovem) ,26 e 60 (sênior) e maior que 60 (idosa); e então, dizer se a equipe é jovem, sênior ou idosa, conforme a média calculada."
   ]
  },
  {
   "cell_type": "code",
   "execution_count": null,
   "id": "b56a85de",
   "metadata": {
    "id": "b56a85de"
   },
   "outputs": [],
   "source": [
    "tamEquipe = int(input(\"Informe quantas pessoas tem na equipe\"))\n",
    "soma = 0\n",
    "\n",
    "for i in range(tamEquipe):\n",
    "    idade = int(input(f\"Informe a {i+1}ª idade\"))\n",
    "    soma += idade\n",
    "\n",
    "media = soma/tamEquipe\n",
    "\n",
    "if 0 < media < 26:\n",
    "    print(\"A equipe é jovem\")\n",
    "\n",
    "if 25 < media < 61:\n",
    "    print(\"A equipe é sênior\")\n",
    "\n",
    "if media > 60:\n",
    "    print(\"A equipe é idosa\")"
   ]
  },
  {
   "cell_type": "markdown",
   "id": "aad21b98",
   "metadata": {
    "id": "aad21b98"
   },
   "source": [
    "#### 9. Numa eleição existem três candidatos. Faça um programa que peça o número total de eleitores. Peça para cada eleitor votar e ao final mostrar o número de votos de cada candidato."
   ]
  },
  {
   "cell_type": "code",
   "execution_count": null,
   "id": "84aa7a93",
   "metadata": {
    "id": "84aa7a93"
   },
   "outputs": [
    {
     "name": "stdout",
     "output_type": "stream",
     "text": [
      "Voto inválido! Digite 1, 2 ou 3\n",
      "Voto inválido! Digite 1, 2 ou 3\n",
      "O candidato 1 teve 3 votos\n",
      "O candidato 2 teve 3 votos\n",
      "O candidato 3 teve 2 votos\n"
     ]
    }
   ],
   "source": [
    "candidato1 = 0\n",
    "candidato2 = 0\n",
    "candidato3 = 0\n",
    "outros = 0\n",
    "eleitores = int(input(\"Qual o total de eleitores\"))\n",
    "\n",
    "for i in range(eleitores):\n",
    "    voto = int(input(\"Vote no candidato 1, 2 ou 3\"))\n",
    "    \n",
    "    if voto == 1:\n",
    "        candidato1 += 1\n",
    "    elif voto == 2:\n",
    "        candidato2 += 1\n",
    "    elif voto == 3:\n",
    "        candidato3 += 1\n",
    "    else:\n",
    "        print(\"Voto inválido!\")\n",
    "\n",
    "print(\"O candidato 1 teve {} votos\".format(candidato1))\n",
    "print(\"O candidato 2 teve {} votos\".format(candidato2))\n",
    "print(\"O candidato 3 teve {} votos\".format(candidato3))"
   ]
  },
  {
   "cell_type": "markdown",
   "id": "6e306453",
   "metadata": {
    "id": "6e306453"
   },
   "source": [
    "#### 10. Faça um programa que calcule o valor total investido por um colecionador em sua coleção de CDs e o valor médio gasto em cada um deles. O usuário deverá informar a quantidade de CDs e o valor para em cada um."
   ]
  },
  {
   "cell_type": "code",
   "execution_count": 18,
   "id": "6b7fa4a2",
   "metadata": {
    "id": "6b7fa4a2"
   },
   "outputs": [
    {
     "name": "stdout",
     "output_type": "stream",
     "text": [
      "O valor total gasto na coleção de CDs foi de R$ 121.00\n",
      "O valor médio gasto em cada CD foi de R$ 40.33\n"
     ]
    }
   ],
   "source": [
    "qtd = int(input(\"Informe a quantidade de CDs\"))\n",
    "total = 0\n",
    "\n",
    "for i in range(qtd):\n",
    "    cd = input(f\"Informe o nome do CD{i+1}\")\n",
    "    valor = float(input(f\"Informe o valor do CD{i+1}\"))\n",
    "    total += valor\n",
    "\n",
    "print(\"O valor total gasto na coleção de CDs foi de R$ {:,.2f}\".format(total))\n",
    "print(\"O valor médio gasto em cada CD foi de R$ {:,.2f}\".format(total/qtd))"
   ]
  },
  {
   "cell_type": "markdown",
   "id": "f19c8d86",
   "metadata": {
    "id": "f19c8d86"
   },
   "source": [
    "#### 11. O Sr. Manoel Joaquim possui uma grande loja de artigos de R\\\\$ 1,99, com cerca de 10 caixas. Para agilizar o cálculo de quanto cada cliente deve pagar ele desenvolveu um tabela que contém o número de itens que o cliente comprou e ao lado o valor da conta. Desta forma a atendente do caixa precisa apenas contar quantos itens o cliente está levando e olhar na tabela de preços. Você foi contratado para desenvolver o programa que monta esta tabela de preços, que conterá os preços de 1 até 50 produtos, conforme o exemplo abaixo:\n",
    "<pre>\n",
    "Lojas Quase Dois - Tabela de preços\n",
    "1 - R$ 1.99\n",
    "2 - R$ 3.98\n",
    "...\n",
    "50 - R$ 99.50\n",
    "</pre>"
   ]
  },
  {
   "cell_type": "code",
   "execution_count": 21,
   "id": "4fc4d54d",
   "metadata": {
    "id": "4fc4d54d"
   },
   "outputs": [
    {
     "name": "stdout",
     "output_type": "stream",
     "text": [
      "Lojas Quase Dois - Tabela de Preços\n",
      "1 - R$ 1.99\n",
      "2 - R$ 3.98\n",
      "3 - R$ 5.97\n",
      "4 - R$ 7.96\n",
      "5 - R$ 9.95\n",
      "6 - R$ 11.94\n",
      "7 - R$ 13.93\n",
      "8 - R$ 15.92\n",
      "9 - R$ 17.91\n",
      "10 - R$ 19.90\n",
      "11 - R$ 21.89\n",
      "12 - R$ 23.88\n",
      "13 - R$ 25.87\n",
      "14 - R$ 27.86\n",
      "15 - R$ 29.85\n",
      "16 - R$ 31.84\n",
      "17 - R$ 33.83\n",
      "18 - R$ 35.82\n",
      "19 - R$ 37.81\n",
      "20 - R$ 39.80\n",
      "21 - R$ 41.79\n",
      "22 - R$ 43.78\n",
      "23 - R$ 45.77\n",
      "24 - R$ 47.76\n",
      "25 - R$ 49.75\n",
      "26 - R$ 51.74\n",
      "27 - R$ 53.73\n",
      "28 - R$ 55.72\n",
      "29 - R$ 57.71\n",
      "30 - R$ 59.70\n",
      "31 - R$ 61.69\n",
      "32 - R$ 63.68\n",
      "33 - R$ 65.67\n",
      "34 - R$ 67.66\n",
      "35 - R$ 69.65\n",
      "36 - R$ 71.64\n",
      "37 - R$ 73.63\n",
      "38 - R$ 75.62\n",
      "39 - R$ 77.61\n",
      "40 - R$ 79.60\n",
      "41 - R$ 81.59\n",
      "42 - R$ 83.58\n",
      "43 - R$ 85.57\n",
      "44 - R$ 87.56\n",
      "45 - R$ 89.55\n",
      "46 - R$ 91.54\n",
      "47 - R$ 93.53\n",
      "48 - R$ 95.52\n",
      "49 - R$ 97.51\n",
      "50 - R$ 99.50\n"
     ]
    }
   ],
   "source": [
    "preco = 1.99\n",
    "print(\"Lojas Quase Dois - Tabela de Preços\")\n",
    "for i in range(50):\n",
    "    print(\"{} - R$ {:.2f}\".format(i+1, (i+1)*preco))"
   ]
  },
  {
   "cell_type": "markdown",
   "id": "6cd19c52",
   "metadata": {
    "id": "6cd19c52"
   },
   "source": [
    "#### 12. Um funcionário de uma empresa recebe aumento salarial anualmente: Sabe-se que:\n",
    "<pre>\n",
    "Esse funcionário foi contratado em 1995, com salário inicial de R$ 1.000,00;\n",
    "Em 1996 recebeu aumento de 1,5% sobre seu salário inicial;\n",
    "A partir de 1997 (inclusive), os aumentos salariais sempre correspondem ao dobro do percentual do ano anterior. Faça um programa que determine o salário desse funcionário em 2003. \n",
    "</pre>"
   ]
  },
  {
   "cell_type": "code",
   "execution_count": 34,
   "id": "98a4811b",
   "metadata": {
    "id": "98a4811b"
   },
   "outputs": [
    {
     "name": "stdout",
     "output_type": "stream",
     "text": [
      "No ano 2004 o salário ficou em R$ 13,036.15\n"
     ]
    }
   ],
   "source": [
    "aumento = 0.015\n",
    "ano = 1997\n",
    "salario = 1000 * (1 + aumento)\n",
    "\n",
    "while ano < 2004:\n",
    "    aumento *= 2\n",
    "    salario *= (1 + aumento)\n",
    "    ano += 1\n",
    "\n",
    "print(\"No ano {} o salário ficou em R$ {:,.2f}\".format(ano, salario))"
   ]
  },
  {
   "cell_type": "markdown",
   "id": "227928d1",
   "metadata": {
    "id": "227928d1"
   },
   "source": [
    "#### 13. O cardápio de uma lanchonete é o seguinte:\n",
    "<pre>\n",
    "Especificação   Código  Preço\n",
    "Cachorro Quente 100     R$ 1,20\n",
    "Bauru Simples   101     R$ 1,30\n",
    "Bauru com ovo   102     R$ 1,50\n",
    "Hambúrguer      103     R$ 1,20\n",
    "Cheeseburguer   104     R$ 1,30\n",
    "Refrigerante    105     R$ 1,00\n",
    "Faça um programa que leia o código dos itens pedidos e as quantidades desejadas. Calcule e mostre o valor a ser pago por item (preço * quantidade) e o total geral do pedido.\n",
    "Considere que o cliente deve informar quando o pedido deve ser encerrado.\n",
    "</pre>"
   ]
  },
  {
   "cell_type": "code",
   "execution_count": 3,
   "id": "8a784b86",
   "metadata": {
    "id": "8a784b86"
   },
   "outputs": [
    {
     "name": "stdout",
     "output_type": "stream",
     "text": [
      "O total do pedido é de R$ 2.40\n"
     ]
    }
   ],
   "source": [
    "total = 0.0\n",
    "pedir = 's'\n",
    "\n",
    "while pedir == 's':\n",
    "    item = float(input(\"Informe o código do item\"))\n",
    "    qtd = int(input(\"Informe a quantidade do item\"))\n",
    "    if item == 100:\n",
    "        total += qtd * 1.2\n",
    "    elif item == 101:\n",
    "        total += qtd * 1.3\n",
    "    elif item == 102:\n",
    "        total += qtd * 1.5\n",
    "    elif item == 103:\n",
    "        total += qtd * 1.2\n",
    "    elif item == 104:\n",
    "        total += qtd * 1.3\n",
    "    elif item == 105:\n",
    "        total += qtd * 1.0\n",
    "    else:\n",
    "        print(\"item inválido!\")\n",
    "        \n",
    "    pedir = input(\"Desaja pedir mais? s ou n\")\n",
    "\n",
    "print(\"O total do pedido é de R$ {:,.2f}\".format(total))"
   ]
  },
  {
   "cell_type": "markdown",
   "id": "9877b8ba",
   "metadata": {
    "id": "9877b8ba"
   },
   "source": [
    "#### 14. Uma grande emissora de televisão quer fazer uma enquete entre os seus telespectadores para saber qual o melhor jogador após cada jogo. Para isto, faz-se necessário o desenvolvimento de um programa, que será utilizado pelas telefonistas, para a computação dos votos. Sua equipe foi contratada para desenvolver este programa, utilizando a linguagem de programação Python. Para computar cada voto, a telefonista digitará um número, entre 1 e 23, correspondente ao número da camisa do jogador. Um número de jogador igual zero, indica que a votação foi encerrada. Se um número inválido for digitado, o programa deve ignorá-lo, mostrando uma breve mensagem de aviso, e voltando a pedir outro número. Após o final da votação, o programa deverá exibir:\n",
    "<pre>a. O total de votos computados;\n",
    "b. Os números e respectivos votos de todos os jogadores que receberam votos;\n",
    "c. O percentual de votos de cada um destes jogadores;\n",
    "d. O número do jogador escolhido como o melhor jogador da partida, juntamente com o número de votos e o percentual de votos dados a ele.\n",
    "        Observe que os votos inválidos e o zero final não devem ser computados como votos. O resultado aparece ordenado pelo número do jogador. O programa deve fazer uso de arrays.\n",
    "        O programa deverá executar o cálculo do percentual de cada jogador através de uma função. Esta função receberá dois parâmetros: o número de votos de um jogador e o total de votos.\n",
    "        A função calculará o percentual e retornará o valor calculado. Abaixo segue uma tela de exemplo. O disposição das informações deve ser o mais próxima possível ao exemplo.\n",
    "        Os dados são fictícios e podem mudar a cada execução do programa. Ao final, o programa deve ainda gravar os dados referentes ao resultado da votação em um arquivo texto no disco,\n",
    "        obedecendo a mesma disposição apresentada na tela.</pre>\n",
    "```\n",
    "Enquete: Quem foi o melhor jogador?\n",
    "\n",
    "Número do jogador (0=fim): 9\n",
    "Número do jogador (0=fim): 10\n",
    "Número do jogador (0=fim): 9\n",
    "Número do jogador (0=fim): 10\n",
    "Número do jogador (0=fim): 11\n",
    "Número do jogador (0=fim): 10\n",
    "Número do jogador (0=fim): 50\n",
    "Informe um valor entre 1 e 23 ou 0 para sair!\n",
    "Número do jogador (0=fim): 9\n",
    "Número do jogador (0=fim): 9\n",
    "Número do jogador (0=fim): 0\n",
    "\n",
    "Resultado da votação:\n",
    "\n",
    "Foram computados 8 votos.\n",
    "\n",
    "Jogador Votos           %\n",
    "9               4               50,0%\n",
    "10              3               37,5%\n",
    "11              1               12,5%\n",
    "``` "
   ]
  },
  {
   "cell_type": "code",
   "execution_count": 16,
   "id": "79b82364",
   "metadata": {
    "id": "79b82364"
   },
   "outputs": [
    {
     "name": "stdout",
     "output_type": "stream",
     "text": [
      "Enquete de quem foi o melhor Jogador\n",
      "\n",
      "Foram computados 13 votos\n",
      "\n",
      "O vencedor foi o jogador número 10\n",
      "\n",
      "Jogador\tVotos\tPercentual\n",
      "1\t1\t7.69%\n",
      "3\t2\t15.38%\n",
      "5\t2\t15.38%\n",
      "10\t5\t38.46%\n",
      "22\t3\t23.08%\n"
     ]
    }
   ],
   "source": [
    "votos = [0, 0, 0, 0, 0, 0, 0, 0, 0, 0, 0, 0, 0, 0, 0, 0, 0, 0, 0, 0, 0, 0, 0]\n",
    "jogador = int(input(\"Número do jogador 1 a 23. 0 = sair\"))\n",
    "\n",
    "while jogador != 0:\n",
    "    if not 0 < jogador <= 23:\n",
    "        print(\"Informe um valor entre 1 e 23 ou 0 para sair!\")\n",
    "        jogador = int(input(\"Número do jogador 1 a 23. 0 = sair\"))\n",
    "\n",
    "    votos[jogador - 1] += 1\n",
    "    jogador = int(input(\"Número do jogador 1 a 23. 0 = sair\"))\n",
    "\n",
    "total = sum(votos)\n",
    "vencedor = max(votos)\n",
    "\n",
    "print(\"Enquete de quem foi o melhor Jogador\\n\")\n",
    "print(\"Foram computados {} votos\\n\".format(total))\n",
    "print(f\"O vencedor foi o jogador número {votos.index(vencedor)+1}\\n\")\n",
    "print(\"Jogador\\tVotos\\tPercentual\")\n",
    "\n",
    "for i, voto in enumerate(votos):\n",
    "    if voto > 0:\n",
    "        print(\"{}\\t{}\\t{:.2%}\".format(i+1, voto, voto/total))"
   ]
  }
 ],
 "metadata": {
  "colab": {
   "collapsed_sections": [],
   "provenance": []
  },
  "kernelspec": {
   "display_name": "Python 3",
   "language": "python",
   "name": "python3"
  },
  "language_info": {
   "codemirror_mode": {
    "name": "ipython",
    "version": 3
   },
   "file_extension": ".py",
   "mimetype": "text/x-python",
   "name": "python",
   "nbconvert_exporter": "python",
   "pygments_lexer": "ipython3",
   "version": "3.13.3"
  }
 },
 "nbformat": 4,
 "nbformat_minor": 5
}
