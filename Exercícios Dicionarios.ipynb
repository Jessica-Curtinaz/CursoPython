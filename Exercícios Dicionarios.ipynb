{
 "cells": [
  {
   "cell_type": "markdown",
   "metadata": {},
   "source": [
    "### Exercício 1\n",
    "Crie um sistema de consulta de preços\n",
    "Seu sistema deve:\n",
    "- Pedir para o usuário o nome de um produto\n",
    "- Caso o produto exista na lista de produtos, o programa deve retornar o preço do produto como resposta\n",
    "       - Ex: O produto celular custa R$1500\n",
    "- Caso o produto não exista na lista de produtos, o programa deve printar uma mensagem para o usuário tentar novamente\n"
   ]
  },
  {
   "cell_type": "code",
   "execution_count": 2,
   "metadata": {},
   "outputs": [
    {
     "name": "stdout",
     "output_type": "stream",
     "text": [
      "O produto celular custa R$ 1,500.00\n"
     ]
    }
   ],
   "source": [
    "precos = {\"celular\": 1500, \"camera\": 1000, \"fone de ouvido\": 800, \"monitor\": 2000}\n",
    "\n",
    "while True:\n",
    "    produto = input(\"Informe o produto\")\n",
    "    produto = produto.lower()\n",
    "    if produto in precos:\n",
    "        print(\"O produto {} custa R$ {:,.2f}\".format(produto, precos[produto]))\n",
    "        break\n",
    "    else:\n",
    "        print(\"Produto não encontrado\")\n",
    "        continue"
   ]
  },
  {
   "cell_type": "markdown",
   "metadata": {},
   "source": [
    "\n",
    "### Exercício 2\n",
    "Agora edite o programa anterior para fazer com que, caso não exista o produto, o programa pergunte se o usuário quer cadastrar o produto\n",
    "<br>Se ele responder sim, o programa deve pedir o nome do produto e o preco do produto e cadastrar no dicionário de preços\n",
    "<br>Em seguida do cadastro bem sucedido, o programa deve printar o dicionário de precos atualizado\n"
   ]
  },
  {
   "cell_type": "code",
   "execution_count": null,
   "metadata": {},
   "outputs": [
    {
     "name": "stdout",
     "output_type": "stream",
     "text": [
      "O produto copo custa R$ 3.99\n",
      "Produto não encontrado\n"
     ]
    }
   ],
   "source": [
    "repetir = 's'\n",
    "\n",
    "while repetir == 's':\n",
    "    produto = input(\"Informe o produto\").lower\n",
    "\n",
    "    if produto in precos:\n",
    "        print(\"O produto {} custa R$ {:,.2f}\".format(produto, precos[produto]))\n",
    "    else:\n",
    "        print(\"Produto não encontrado\")\n",
    "        adicionar = input(\"Deseja adicionar {} na lista? s ou n\".format(produto)).lower\n",
    "\n",
    "        if adicionar == 's':\n",
    "            preco = float(input(\"Informe o preço do produto\"))\n",
    "            precos[produto] = preco\n",
    "            print(precos)\n",
    "\n",
    "    repetir = input(\"Deseja repetir a operação? s ou n\").lower()\n",
    "    "
   ]
  },
  {
   "cell_type": "markdown",
   "metadata": {},
   "source": [
    "### Exercício 3\n",
    "Dada a lista de preços de produtos, uma loja resolveu fazer um reajuste nos preços dos produtos. \n",
    "calcule o novo valor dos produtos com base nas seguintes regras:\n",
    "- Preços até 1.000 vão ter um reajuste de 10% (ou seja, o novo preço será 110% do preço atual)\n",
    "- Preços até maiores que 1.000 até 2.000 vão ter reajuste de 15%\n",
    "- Preços acima de 2.000 vão ter reajuste de 20%"
   ]
  },
  {
   "cell_type": "code",
   "execution_count": 12,
   "metadata": {},
   "outputs": [
    {
     "name": "stdout",
     "output_type": "stream",
     "text": [
      "celular, novo preço: R$ 1,725.00\n",
      "camera, novo preço: R$ 1,100.00\n",
      "fone de ouvido, novo preço: R$ 880.00\n",
      "monitor, novo preço: R$ 3,600.00\n"
     ]
    }
   ],
   "source": [
    "precos = {\"celular\": 1500, \"camera\": 1000, \"fone de ouvido\": 800, \"monitor\": 3000}\n",
    "\n",
    "for chave in precos:\n",
    "    if precos[chave] <= 1000:\n",
    "        precos[chave] *= 1.1\n",
    "    elif precos[chave] <= 2000:\n",
    "        precos[chave] *= 1.15\n",
    "    else:\n",
    "        precos[chave] *= 1.2\n",
    "    \n",
    "    print(\"{}, novo preço: R$ {:,.2f}\".format(chave, precos[chave]))\n"
   ]
  },
  {
   "cell_type": "markdown",
   "metadata": {},
   "source": [
    "### Exercício 4\n",
    " - Edite o programa antigo para ter os 2 dicionários, o de preços originais e o de novos preços\n",
    " - Em seguida calcule o valor total de reajuste em R$ que teve entre a lista de produtos original e a lista final\n"
   ]
  },
  {
   "cell_type": "code",
   "execution_count": 20,
   "metadata": {},
   "outputs": [
    {
     "name": "stdout",
     "output_type": "stream",
     "text": [
      "O total do reajuste foi de R$ 1,005.00\n"
     ]
    }
   ],
   "source": [
    "precos = {\"celular\": 1500, \"camera\": 1000, \"fone de ouvido\": 800, \"monitor\": 3000}\n",
    "novosPrecos = {}\n",
    "\n",
    "for chave in precos:\n",
    "    if precos[chave] <= 1000:\n",
    "        novosPrecos[chave] = precos[chave] * 1.1\n",
    "    elif precos[chave] <= 2000:\n",
    "        novosPrecos[chave] = precos[chave] * 1.15\n",
    "    else:\n",
    "        novosPrecos[chave] = precos[chave] * 1.2\n",
    "\n",
    "totalPrecos = sum(precos.values())\n",
    "totalNovosPrecos = sum(novosPrecos.values())\n",
    "reajuste = totalNovosPrecos - totalPrecos\n",
    "\n",
    "print(f\"O total do reajuste foi de R$ {reajuste:,.2f}\")"
   ]
  },
  {
   "cell_type": "markdown",
   "metadata": {},
   "source": [
    "\n",
    "### Exercício 5\n",
    "- Uma empresa está analisando os resultados de vendas do 1º semestre de 2022 e 2023\n",
    "- Qual foi o % de crescimento de cada mês de 2023 em relação a 2022?\n",
    "- Depois de calcular isso, calcule o valor total de crescimento de 2023 em relação a 2022"
   ]
  },
  {
   "cell_type": "code",
   "execution_count": 33,
   "metadata": {},
   "outputs": [
    {
     "name": "stdout",
     "output_type": "stream",
     "text": [
      "No mês jan tivemos um crescimento de 13.33%\n",
      "No mês fev tivemos um crescimento de -3.23%\n",
      "No mês mar tivemos um crescimento de 25.00%\n",
      "No mês abr tivemos um crescimento de 1.81%\n",
      "No mês mai tivemos um crescimento de -1.84%\n",
      "No mês jun tivemos um crescimento de 8.82%\n",
      "No semestre 1/2023 tivemos um crescimento de 6.89%\n"
     ]
    }
   ],
   "source": [
    "vendas_22 = {\"jan\": 15000, \"fev\": 15500, \"mar\": 14000, \"abr\": 16600, \"mai\": 16300, \"jun\": 17000}\n",
    "vendas_23 = {\"jan\": 17000, \"fev\": 15000, \"mar\": 17500, \"abr\": 16900, \"mai\": 16000, \"jun\": 18500}\n",
    "\n",
    "for chave in vendas_23:\n",
    "    crescimento = vendas_23[chave] / vendas_22[chave] - 1\n",
    "    print(\"No mês {} tivemos um crescimento de {:.2%}\".format(chave, crescimento))\n",
    "\n",
    "valores22 = sum(vendas_22.values())\n",
    "valores23 = sum(vendas_23.values())\n",
    "\n",
    "print(\"No semestre 1/2023 tivemos um crescimento de {:.2%}\".format(valores23/valores22-1))"
   ]
  },
  {
   "cell_type": "markdown",
   "metadata": {},
   "source": [
    "### Exercício 6 - Desafio\n",
    "- No final da reunião de apresentação dos números, seu chefe perguntou:\n",
    "- E se nos meses de 2023 que a gente vendeu menos do que 2022 a gente tivesse pelo menos empatado com 2022 (ou seja, se nos meses de 2023 em que as vendas foram menores do que o mesmo mês em 2022, o valor de vendas tivesse sido igual a 2022)\n",
    "- Qual teria sido o nosso crescimento de 2023 frente a 2022?"
   ]
  },
  {
   "cell_type": "code",
   "execution_count": 35,
   "metadata": {},
   "outputs": [
    {
     "name": "stdout",
     "output_type": "stream",
     "text": [
      "No mês jan tivemos um crescimento de 13.33%\n",
      "No mês fev tivemos um crescimento de 0.00%\n",
      "No mês mar tivemos um crescimento de 25.00%\n",
      "No mês abr tivemos um crescimento de 1.81%\n",
      "No mês mai tivemos um crescimento de 0.00%\n",
      "No mês jun tivemos um crescimento de 8.82%\n",
      "No semestre 1/2023 teriamos um crescimento simulado de 7.73%\n"
     ]
    }
   ],
   "source": [
    "for chave in vendas_23:\n",
    "    crescimento = vendas_23[chave] / vendas_22[chave] - 1\n",
    "    if crescimento < 0:\n",
    "        vendas_23[chave] = vendas_22[chave]\n",
    "    print(\"No mês {} tivemos um crescimento de {:.2%}\".format(chave, crescimento))\n",
    "\n",
    "valores22 = sum(vendas_22.values())\n",
    "valores23 = sum(vendas_23.values())\n",
    "\n",
    "print(\"No semestre 1/2023 teriamos um crescimento simulado de {:.2%}\".format(valores23/valores22-1))"
   ]
  }
 ],
 "metadata": {
  "kernelspec": {
   "display_name": "Python 3",
   "language": "python",
   "name": "python3"
  },
  "language_info": {
   "codemirror_mode": {
    "name": "ipython",
    "version": 3
   },
   "file_extension": ".py",
   "mimetype": "text/x-python",
   "name": "python",
   "nbconvert_exporter": "python",
   "pygments_lexer": "ipython3",
   "version": "3.13.3"
  }
 },
 "nbformat": 4,
 "nbformat_minor": 2
}
