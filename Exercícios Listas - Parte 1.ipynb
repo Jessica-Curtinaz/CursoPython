{
 "cells": [
  {
   "cell_type": "markdown",
   "metadata": {},
   "source": [
    "# Exercícios\n",
    "\n",
    "## 1. Faturamento do Melhor e do Pior Mês do Ano\n",
    "\n",
    "Qual foi o valor de vendas do melhor mês do Ano?\n",
    "E valor do pior mês do ano?"
   ]
  },
  {
   "cell_type": "code",
   "execution_count": 34,
   "metadata": {},
   "outputs": [
    {
     "name": "stdout",
     "output_type": "stream",
     "text": [
      "[25000, 29000, 22200, 17750, 15870, 19900, 19850, 20120, 17540, 15555, 49051, 9650]\n",
      "O valor de venda do melhor mês do ano foi de R$ 49,051.00.\n",
      "O valor de venda do pior mês do ano foi de R$ 9,650.00.\n"
     ]
    }
   ],
   "source": [
    "meses = ['jan', 'fev', 'mar', 'abr', 'mai', 'jun', 'jul', 'ago', 'set', 'out', 'nov', 'dez']\n",
    "vendas_1sem = [25000, 29000, 22200, 17750, 15870, 19900]\n",
    "vendas_2sem = [19850, 20120, 17540, 15555, 49051, 9650]\n",
    "\n",
    "vendasAno = vendas_1sem + vendas_2sem\n",
    "print(vendasAno)\n",
    "melhorVenda = max(vendasAno)\n",
    "print(\"O valor de venda do melhor mês do ano foi de R$ {:,.2f}.\".format(melhorVenda))\n",
    "piorVenda = min(vendasAno)\n",
    "print(\"O valor de venda do pior mês do ano foi de R$ {:,.2f}.\".format(piorVenda))\n"
   ]
  },
  {
   "cell_type": "markdown",
   "metadata": {},
   "source": [
    "## 2. Continuação\n",
    "\n",
    "Agora relacione as duas listas para printar 'O melhor mês do ano foi {} com {} vendas' e o mesmo para o pior mês do ano.\n",
    "\n",
    "Calcule também o faturamento total do Ano e quanto que o melhor mês representou do faturamento total.\n",
    "\n",
    "Obs: Para o faturamento total, pode usar a função sum(lista) que soma todos os itens de uma lista"
   ]
  },
  {
   "cell_type": "code",
   "execution_count": 35,
   "metadata": {},
   "outputs": [
    {
     "name": "stdout",
     "output_type": "stream",
     "text": [
      "O pior mês do ano foi dez com R$ 9,650.00.\n",
      "O melhor mês do ano foi nov com R$ 49,051.00.\n",
      "O faturamento do ano foi de R$ 261,486.00.\n",
      "O mês de nov foi a maior venda do ano com 18.8% do faturamento do ano.\n"
     ]
    }
   ],
   "source": [
    "iPiorVenda = vendasAno.index(piorVenda)\n",
    "print(\"O pior mês do ano foi {} com R$ {:,.2f}.\".format(meses[iPiorVenda], piorVenda))\n",
    "\n",
    "iMelhorVenda = vendasAno.index(melhorVenda)\n",
    "print(\"O melhor mês do ano foi {} com R$ {:,.2f}.\".format(meses[iMelhorVenda], melhorVenda))\n",
    "\n",
    "faturamentoAno = sum(vendasAno)\n",
    "faturamentoMelhorVenda = melhorVenda / faturamentoAno\n",
    "print(\"O faturamento do ano foi de R$ {:,.2f}.\".format(faturamentoAno))\n",
    "print(\"O mês de {} foi a maior venda do ano com {:.1%} do faturamento do ano.\".format(meses[iMelhorVenda], faturamentoMelhorVenda))"
   ]
  },
  {
   "cell_type": "markdown",
   "metadata": {},
   "source": [
    "## 3. Crie uma lista com o top 3 valores de vendas do ano (sem fazer \"no olho\")\n",
    "\n",
    "Dica: o método remove retira um item da lista."
   ]
  },
  {
   "cell_type": "code",
   "execution_count": 36,
   "metadata": {},
   "outputs": [
    {
     "name": "stdout",
     "output_type": "stream",
     "text": [
      "[49051, 29000, 25000, 22200, 20120, 19900, 19850, 17750, 17540, 15870, 15555, 9650]\n",
      "[49051, 29000, 25000]\n",
      "O TOP 3 meses de faturamento foi de: \n",
      "R$ 49,051.00\n",
      "R$ 29,000.00\n",
      "R$ 25,000.00\n"
     ]
    }
   ],
   "source": [
    "vendasAno.sort(reverse=True)\n",
    "print(vendasAno)\n",
    "top3 = [vendasAno[0], vendasAno[1], vendasAno[2]]\n",
    "print(top3)\n",
    "print(\"O TOP 3 meses de faturamento foi de: \\nR$ {:,.2f}\\nR$ {:,.2f}\\nR$ {:,.2f}\".format(top3[0], top3[1], top3[2]))"
   ]
  }
 ],
 "metadata": {
  "kernelspec": {
   "display_name": "Python 3",
   "language": "python",
   "name": "python3"
  },
  "language_info": {
   "codemirror_mode": {
    "name": "ipython",
    "version": 3
   },
   "file_extension": ".py",
   "mimetype": "text/x-python",
   "name": "python",
   "nbconvert_exporter": "python",
   "pygments_lexer": "ipython3",
   "version": "3.13.3"
  }
 },
 "nbformat": 4,
 "nbformat_minor": 4
}
